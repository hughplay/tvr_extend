{
 "cells": [
  {
   "cell_type": "code",
   "execution_count": 1,
   "metadata": {},
   "outputs": [],
   "source": [
    "import pickle as pkl\n",
    "import json"
   ]
  },
  {
   "cell_type": "code",
   "execution_count": 15,
   "metadata": {},
   "outputs": [],
   "source": [
    "detection_file = '/data/home/lanyanyan/hongxin/code/reason/tvr_extend_tool/ns-vqa/data/mask_rcnn/results/clevr_val_pretrained/detections.pkl'"
   ]
  },
  {
   "cell_type": "code",
   "execution_count": 31,
   "metadata": {},
   "outputs": [],
   "source": [
    "ann_file = '/data/home/lanyanyan/hongxin/code/reason/tvr_extend_tool/ns-vqa/data/raw/CLEVR_mini/CLEVR_mini_coco_anns.json'"
   ]
  },
  {
   "cell_type": "code",
   "execution_count": 16,
   "metadata": {},
   "outputs": [],
   "source": [
    "data = pkl.load(open(detection_file, 'rb'))"
   ]
  },
  {
   "cell_type": "code",
   "execution_count": 17,
   "metadata": {},
   "outputs": [
    {
     "data": {
      "text/plain": [
       "dict_keys(['all_boxes', 'all_segms', 'all_keyps', 'cfg'])"
      ]
     },
     "execution_count": 17,
     "metadata": {},
     "output_type": "execute_result"
    }
   ],
   "source": [
    "data.keys()"
   ]
  },
  {
   "cell_type": "code",
   "execution_count": 23,
   "metadata": {},
   "outputs": [
    {
     "name": "stdout",
     "output_type": "stream",
     "text": [
      "4000\n"
     ]
    }
   ],
   "source": [
    "print(len(data['all_boxes'][0]))"
   ]
  },
  {
   "cell_type": "code",
   "execution_count": 30,
   "metadata": {},
   "outputs": [
    {
     "data": {
      "text/plain": [
       "array([], shape=(0, 5), dtype=float32)"
      ]
     },
     "execution_count": 30,
     "metadata": {},
     "output_type": "execute_result"
    }
   ],
   "source": [
    "data['all_boxes'][5][1]"
   ]
  },
  {
   "cell_type": "code",
   "execution_count": null,
   "metadata": {},
   "outputs": [],
   "source": []
  },
  {
   "cell_type": "code",
   "execution_count": 33,
   "metadata": {},
   "outputs": [],
   "source": [
    "with open(ann_file) as f:\n",
    "    ann = json.load(f)"
   ]
  },
  {
   "cell_type": "code",
   "execution_count": 50,
   "metadata": {},
   "outputs": [],
   "source": [
    "from pycocotools.mask import decode"
   ]
  },
  {
   "cell_type": "code",
   "execution_count": 53,
   "metadata": {},
   "outputs": [
    {
     "data": {
      "text/plain": [
       "array([[0, 0, 0, ..., 0, 0, 0],\n",
       "       [0, 0, 0, ..., 0, 0, 0],\n",
       "       [0, 0, 0, ..., 0, 0, 0],\n",
       "       ...,\n",
       "       [0, 0, 0, ..., 0, 0, 0],\n",
       "       [0, 0, 0, ..., 0, 0, 0],\n",
       "       [0, 0, 0, ..., 0, 0, 0]], dtype=uint8)"
      ]
     },
     "execution_count": 53,
     "metadata": {},
     "output_type": "execute_result"
    }
   ],
   "source": [
    "decode(ann['scenes'][0]['objects'][0]['mask'])"
   ]
  },
  {
   "cell_type": "code",
   "execution_count": 49,
   "metadata": {},
   "outputs": [
    {
     "data": {
      "text/plain": [
       "str"
      ]
     },
     "execution_count": 49,
     "metadata": {},
     "output_type": "execute_result"
    }
   ],
   "source": [
    "ann['scenes'][0]['objects'][0]['mask']['counts']"
   ]
  },
  {
   "cell_type": "code",
   "execution_count": 39,
   "metadata": {
    "collapsed": true,
    "jupyter": {
     "outputs_hidden": true
    }
   },
   "outputs": [
    {
     "name": "stdout",
     "output_type": "stream",
     "text": [
      "4000\n"
     ]
    },
    {
     "data": {
      "text/plain": [
       "{'split': 'new',\n",
       " 'directions': {'above': [0.0, 0.0, 1.0],\n",
       "  'front': [0.754490315914154, -0.6563112735748291, -0.0],\n",
       "  'left': [-0.6563112735748291, -0.7544902563095093, 0.0],\n",
       "  'behind': [-0.754490315914154, 0.6563112735748291, 0.0],\n",
       "  'right': [0.6563112735748291, 0.7544902563095093, -0.0],\n",
       "  'below': [-0.0, -0.0, -1.0]},\n",
       " 'image_index': 0,\n",
       " 'relationships': {'behind': [[1, 5, 7, 9],\n",
       "   [],\n",
       "   [0, 1, 5, 6, 7, 9],\n",
       "   [0, 1, 2, 4, 5, 6, 7, 8, 9],\n",
       "   [0, 1, 2, 5, 6, 7, 8, 9],\n",
       "   [1, 7],\n",
       "   [0, 1, 5, 7, 9],\n",
       "   [1],\n",
       "   [0, 1, 2, 5, 6, 7, 9],\n",
       "   [1, 5, 7]],\n",
       "  'front': [[2, 3, 4, 6, 8],\n",
       "   [0, 2, 3, 4, 5, 6, 7, 8, 9],\n",
       "   [3, 4, 8],\n",
       "   [],\n",
       "   [3],\n",
       "   [0, 2, 3, 4, 6, 8, 9],\n",
       "   [2, 3, 4, 8],\n",
       "   [0, 2, 3, 4, 5, 6, 8, 9],\n",
       "   [3, 4],\n",
       "   [0, 2, 3, 4, 6, 8]],\n",
       "  'right': [[5, 6, 8],\n",
       "   [0, 3, 5, 6, 7, 8],\n",
       "   [0, 1, 3, 4, 5, 6, 7, 8],\n",
       "   [0, 5, 6, 7, 8],\n",
       "   [0, 1, 3, 5, 6, 7, 8],\n",
       "   [6],\n",
       "   [],\n",
       "   [0, 5, 6, 8],\n",
       "   [5, 6],\n",
       "   [0, 1, 2, 3, 4, 5, 6, 7, 8]],\n",
       "  'left': [[1, 2, 3, 4, 7, 9],\n",
       "   [2, 4, 9],\n",
       "   [9],\n",
       "   [1, 2, 4, 9],\n",
       "   [2, 9],\n",
       "   [0, 1, 2, 3, 4, 7, 8, 9],\n",
       "   [0, 1, 2, 3, 4, 5, 7, 8, 9],\n",
       "   [1, 2, 3, 4, 9],\n",
       "   [0, 1, 2, 3, 4, 7, 9],\n",
       "   []]},\n",
       " 'objects': [{'pixel_coords': [297, 131, 10.576876640319824],\n",
       "   'color': 'red',\n",
       "   'size': 'large',\n",
       "   'shape': 'cylinder',\n",
       "   'rotation': 5.974144897399404,\n",
       "   '3d_coords': [0.8723468780517578, 0.741273045539856, 0.699999988079071],\n",
       "   'material': 'rubber',\n",
       "   'mask': {'size': [320, 480],\n",
       "    'counts': 'bfa2`0R8a1J4M4M2O1N1O2O1N101O0O2O000O2O00001O0O10001O000000001N100000000000000000000001O0000000000000O101O00000O101O000O101N100O2O0O1L5G8O2N1O2O1F:D<C=DXa]1'}},\n",
       "  {'pixel_coords': [210, 79, 13.525203704833984],\n",
       "   'color': 'yellow',\n",
       "   'size': 'large',\n",
       "   'shape': 'sphere',\n",
       "   'rotation': 1.8648348278937792,\n",
       "   '3d_coords': [-2.8447155952453613, 1.6853911876678467, 0.699999988079071],\n",
       "   'material': 'rubber',\n",
       "   'mask': {'size': [320, 480],\n",
       "    'counts': 'Znh18d99H5L4L4M3M2N2N2N2N2N2N101N2O0O2O0O101O000O2O000000000000000001O0O10001O0O2O0O2O0O2O0O2N2N2N2N2N3M2M4M3K6K7Fik[2'}},\n",
       "  {'pixel_coords': [127, 158, 9.527995109558105],\n",
       "   'color': 'gray',\n",
       "   'size': 'large',\n",
       "   'shape': 'cylinder',\n",
       "   'rotation': 5.939304701098431,\n",
       "   '3d_coords': [-0.5203280448913574, -2.368272304534912, 0.699999988079071],\n",
       "   'material': 'rubber',\n",
       "   'mask': {'size': [320, 480],\n",
       "    'counts': 'mgi09e99H8H7I8H8H7J7H7J7H5L2M3N1N2O001N2O001N101O0O101O00001N10000000001N10000000000000000000000O10000001N100YOeIiM[6S2mIiMS6T2n0M3N2N2N2O1N3N1O1O1O1O2N1O1O1O2O0O2N101N101N2O1N2O2M8I>BcYR3'}},\n",
       "  {'pixel_coords': [244, 253, 7.620674133300781],\n",
       "   'color': 'yellow',\n",
       "   'size': 'small',\n",
       "   'shape': 'cylinder',\n",
       "   'rotation': 4.488498998593027,\n",
       "   '3d_coords': [2.6161797046661377, -2.4891679286956787, 0.3499999940395355],\n",
       "   'material': 'metal',\n",
       "   'mask': {'size': [320, 480],\n",
       "    'counts': 'WeT2j0T9d0]O3L3O2M2N1O2O1N101O0O2O001N1000001O000O10000000000001O00000O10001O0O101N10001N1O2O1N1O2N2M4L4^OYQR2'}},\n",
       "  {'pixel_coords': [178, 194, 8.399224281311035],\n",
       "   'color': 'yellow',\n",
       "   'size': 'large',\n",
       "   'shape': 'sphere',\n",
       "   'rotation': 2.8562050898170397,\n",
       "   '3d_coords': [1.1355512142181396, -2.4919047355651855, 0.699999988079071],\n",
       "   'material': 'metal',\n",
       "   'mask': {'size': [320, 480],\n",
       "    'counts': 'kQZ1`0\\\\98I6J6K4L3M4M3L3N2N2N3M2N2N2N1O2N2O1N1O2O1N101N101N100O2O000O2O00000O2O0000000000000000000000000000000001N1000001N100O2O000O2O0O2O1N1O2O0O2N2O1N2N2N2N2N2N2N2M4M2M4M3L4K5L6I7GZ^`2'}},\n",
       "  {'pixel_coords': [346, 104, 11.914647102355957],\n",
       "   'color': 'cyan',\n",
       "   'size': 'large',\n",
       "   'shape': 'cylinder',\n",
       "   'rotation': 4.084392366882516,\n",
       "   '3d_coords': [0.6896907687187195, 2.7060546875, 0.699999988079071],\n",
       "   'material': 'rubber',\n",
       "   'mask': {'size': [320, 480],\n",
       "    'counts': 'gjR33`9=N2O2N100O2O0O101O0O2O001O1O1UHXO[6j0XIBh6?lHLT7a1O0000000000001O000000000000000000000000000001N10000000001N10000O1N3F9H8H9G8L4N3N1O2O0O2O1N2G:Fkan0'}},\n",
       "  {'pixel_coords': [405, 140, 10.210430145263672],\n",
       "   'color': 'purple',\n",
       "   'size': 'large',\n",
       "   'shape': 'cylinder',\n",
       "   'rotation': 1.1231763968479007,\n",
       "   '3d_coords': [2.6100337505340576, 1.9271721839904785, 0.699999988079071],\n",
       "   'material': 'metal',\n",
       "   'mask': {'size': [320, 480],\n",
       "    'counts': 'lVb3`0X99G:E:G9G9G8L5M3N1O2O0O2O0O2O001N10001O0O101O00001O000O10001O0000000000001O0000000001O00000000000000001N100000001O0O10001N10000O2N100O2N1O1O2L3L5I6K6J5K6J6J5K6J6J6J7Hhb9'}},\n",
       "  {'pixel_coords': [253, 102, 13.03650188446045],\n",
       "   'color': 'green',\n",
       "   'size': 'small',\n",
       "   'shape': 'cylinder',\n",
       "   'rotation': 2.5684564887000163,\n",
       "   '3d_coords': [-1.5539499521255493, 1.9602950811386108, 0.3499999940395355],\n",
       "   'material': 'rubber',\n",
       "   'mask': {'size': [320, 480],\n",
       "    'counts': 'ghZ2m0R92O1N10001N100000001O00000000000000O10001O000]Od0L3N3N2OX_R2'}},\n",
       "  {'pixel_coords': [343, 180, 9.522201538085938],\n",
       "   'color': 'blue',\n",
       "   'size': 'small',\n",
       "   'shape': 'cylinder',\n",
       "   'rotation': 3.0934209871054197,\n",
       "   '3d_coords': [2.3598525524139404, 0.30697569251060486, 0.3499999940395355],\n",
       "   'material': 'rubber',\n",
       "   'mask': {'size': [320, 480],\n",
       "    'counts': 'PjT34`9>B=G9N2N2N2O0O2O000O2O0000001O000O100001O000000000000001O0O10001N101N1O2N1O2H8G9G:FTiS1'}},\n",
       "  {'pixel_coords': [65, 136, 11.203636169433594],\n",
       "   'color': 'yellow',\n",
       "   'size': 'small',\n",
       "   'shape': 'cylinder',\n",
       "   'rotation': 2.61482109830391,\n",
       "   '3d_coords': [-2.9133694171905518, -2.376067638397217, 0.3499999940395355],\n",
       "   'material': 'metal',\n",
       "   'mask': {'size': [320, 480],\n",
       "    'counts': 'jU>5j96J7J5J7I6K1O1N101O0O101O0000000O10000000000000O10001O0O10001N101O1N7I8I6I8H`ck3'}}],\n",
       " 'image_filename': 'CLEVR_mini_000000.png'}"
      ]
     },
     "execution_count": 39,
     "metadata": {},
     "output_type": "execute_result"
    }
   ],
   "source": [
    "print(len(ann['scenes']))\n",
    "ann['scenes'][0]"
   ]
  },
  {
   "cell_type": "code",
   "execution_count": null,
   "metadata": {},
   "outputs": [],
   "source": []
  },
  {
   "cell_type": "code",
   "execution_count": 40,
   "metadata": {},
   "outputs": [],
   "source": [
    "scene_file = '/data/home/lanyanyan/hongxin/data/clevr/scenes.json'"
   ]
  },
  {
   "cell_type": "code",
   "execution_count": 41,
   "metadata": {},
   "outputs": [],
   "source": [
    "with open(scene_file) as f:\n",
    "    scene = json.load(f)"
   ]
  },
  {
   "cell_type": "code",
   "execution_count": 44,
   "metadata": {
    "collapsed": true,
    "jupyter": {
     "outputs_hidden": true
    }
   },
   "outputs": [
    {
     "data": {
      "text/plain": [
       "{'image_index': 0,\n",
       " 'objects': [{'color': 'brown',\n",
       "   'size': 'large',\n",
       "   'rotation': 178.92387258999463,\n",
       "   'shape': 'cylinder',\n",
       "   '3d_coords': [-1.4937210083007812, -1.9936031103134155, 0.699999988079071],\n",
       "   'material': 'rubber',\n",
       "   'pixel_coords': [119, 131, 10.801968574523926]},\n",
       "  {'color': 'gray',\n",
       "   'size': 'large',\n",
       "   'rotation': 243.405459279722,\n",
       "   'shape': 'cube',\n",
       "   '3d_coords': [1.555708646774292, -2.104736566543579, 0.699999988079071],\n",
       "   'material': 'rubber',\n",
       "   'pixel_coords': [198, 190, 8.60103988647461]},\n",
       "  {'color': 'green',\n",
       "   'size': 'small',\n",
       "   'rotation': 230.45235024165092,\n",
       "   'shape': 'cylinder',\n",
       "   '3d_coords': [-2.342184543609619, -0.5205014944076538, 0.3499999940395355],\n",
       "   'material': 'rubber',\n",
       "   'pixel_coords': [161, 118, 12.372727394104004]},\n",
       "  {'color': 'purple',\n",
       "   'size': 'large',\n",
       "   'rotation': 31.654351858799153,\n",
       "   'shape': 'sphere',\n",
       "   '3d_coords': [-0.8073106408119202, 1.914123773574829, 0.699999988079071],\n",
       "   'material': 'metal',\n",
       "   'pixel_coords': [282, 100, 12.495001792907715]},\n",
       "  {'color': 'gray',\n",
       "   'size': 'small',\n",
       "   'rotation': 42.183287560575,\n",
       "   'shape': 'cube',\n",
       "   '3d_coords': [2.6763813495635986, 0.03453871235251427, 0.3499999940395355],\n",
       "   'material': 'metal',\n",
       "   'pixel_coords': [337, 195, 9.161211967468262]}],\n",
       " 'relationships': {'right': [[1, 2, 3, 4], [3, 4], [1, 3, 4], [4], []],\n",
       "  'behind': [[2, 3], [0, 2, 3, 4], [3], [], [0, 2, 3]],\n",
       "  'front': [[1, 4], [], [0, 1, 4], [0, 1, 2, 4], [1]],\n",
       "  'left': [[], [0, 2], [0], [0, 1, 2], [0, 1, 2, 3]]},\n",
       " 'image_filename': 'CLEVR_val_000000.png',\n",
       " 'split': 'val',\n",
       " 'directions': {'right': [0.6563112735748291, 0.7544902563095093, -0.0],\n",
       "  'behind': [-0.754490315914154, 0.6563112735748291, 0.0],\n",
       "  'above': [0.0, 0.0, 1.0],\n",
       "  'below': [-0.0, -0.0, -1.0],\n",
       "  'left': [-0.6563112735748291, -0.7544902563095093, 0.0],\n",
       "  'front': [0.754490315914154, -0.6563112735748291, -0.0]},\n",
       " 'objects_detection': [{'mask': {'size': [320, 480],\n",
       "    'counts': 'Tih0=b92N>B6J3La0A3L3N<D1O2N2M2N1O101O1O1O000000000O1O1O10000000000000000000000000000000000000000000000000000000000000000001O001M3ZOe0O1O101N1O3M101O2N2Mj0WO2MThU3'}},\n",
       "  {'mask': {'size': [320, 480],\n",
       "    'counts': 'gl[1P1o84L3N3Lj0VO4L2O1O2N1O1O1O1O1O1N2O1O2M1O2N2O2M2O001O2N1O001O2N1O1O1N3N1N1O2O1N2O1O00001O000000000O1O1O1O1000000O0100O1O1O100O10000000000O100N2O10000000001O0O2O2M100O2N100O2O2N1O00001N1O2N2O1N101O001O2N1O0O1O1O1O2O1O1O1O0O2N2N1O3M3MQUV2'}},\n",
       "  {'mask': {'size': [320, 480],\n",
       "    'counts': '`QQ3Q1n81O2N2N2O1O001O1O1O2M1O3N001O1O001O1N1O1000000000000O1O10O100O1000001O1O0O2O1N102N001N2O0O2O1O001O1N1O2O1I7K_hS1'}},\n",
       "  {'mask': {'size': [320, 480],\n",
       "    'counts': 'TY_1<c9?B9G2N000000000000000000000000000000O2N2O0O2O6Ieln2'}},\n",
       "  {'mask': {'size': [320, 480],\n",
       "    'counts': 'iT_2d0[93K6L2M4M2M3N2N2N2O1N2O0O2N2N10001O1N100O100000000000000000000000000000000001N2O0O101O1N1O101N2N2N2N2N2N2N3L4M3K4MZgd1'}}]}"
      ]
     },
     "execution_count": 44,
     "metadata": {},
     "output_type": "execute_result"
    }
   ],
   "source": [
    "scene['scenes'][0]"
   ]
  },
  {
   "cell_type": "code",
   "execution_count": null,
   "metadata": {},
   "outputs": [],
   "source": []
  },
  {
   "cell_type": "code",
   "execution_count": null,
   "metadata": {},
   "outputs": [],
   "source": []
  },
  {
   "cell_type": "code",
   "execution_count": 1,
   "metadata": {},
   "outputs": [],
   "source": [
    "%load_ext autoreload\n",
    "%autoreload 2\n",
    "import sys\n",
    "sys.path.append('..')"
   ]
  },
  {
   "cell_type": "code",
   "execution_count": 60,
   "metadata": {},
   "outputs": [],
   "source": [
    "from model.block import resnet_fpn_backbone\n",
    "import torch"
   ]
  },
  {
   "cell_type": "code",
   "execution_count": 160,
   "metadata": {},
   "outputs": [],
   "source": [
    "resnet18 = resnet_fpn_backbone('resnet18', c_in=3)"
   ]
  },
  {
   "cell_type": "code",
   "execution_count": 161,
   "metadata": {},
   "outputs": [],
   "source": [
    "x = torch.ones(10,3,120,160)"
   ]
  },
  {
   "cell_type": "code",
   "execution_count": 162,
   "metadata": {},
   "outputs": [],
   "source": [
    "y = resnet18(x)"
   ]
  },
  {
   "cell_type": "code",
   "execution_count": 163,
   "metadata": {},
   "outputs": [
    {
     "data": {
      "text/plain": [
       "collections.OrderedDict"
      ]
     },
     "execution_count": 163,
     "metadata": {},
     "output_type": "execute_result"
    }
   ],
   "source": [
    "type(y)"
   ]
  },
  {
   "cell_type": "code",
   "execution_count": 64,
   "metadata": {},
   "outputs": [
    {
     "name": "stdout",
     "output_type": "stream",
     "text": [
      "[('0', torch.Size([10, 256, 30, 40])), ('1', torch.Size([10, 256, 15, 20])), ('2', torch.Size([10, 256, 8, 10])), ('3', torch.Size([10, 256, 4, 5])), ('pool', torch.Size([10, 256, 2, 3]))]\n"
     ]
    }
   ],
   "source": [
    "print([(k, v.shape) for k, v in y.items()])"
   ]
  },
  {
   "cell_type": "code",
   "execution_count": 37,
   "metadata": {},
   "outputs": [],
   "source": [
    "from pycocotools.mask import encode, decode, toBbox"
   ]
  },
  {
   "cell_type": "code",
   "execution_count": 38,
   "metadata": {},
   "outputs": [
    {
     "data": {
      "text/plain": [
       "\u001b[0;31mSignature:\u001b[0m \u001b[0mencode\u001b[0m\u001b[0;34m(\u001b[0m\u001b[0mbimask\u001b[0m\u001b[0;34m)\u001b[0m\u001b[0;34m\u001b[0m\u001b[0;34m\u001b[0m\u001b[0m\n",
       "\u001b[0;31mDocstring:\u001b[0m <no docstring>\n",
       "\u001b[0;31mSource:\u001b[0m   \n",
       "\u001b[0;32mdef\u001b[0m \u001b[0mencode\u001b[0m\u001b[0;34m(\u001b[0m\u001b[0mbimask\u001b[0m\u001b[0;34m)\u001b[0m\u001b[0;34m:\u001b[0m\u001b[0;34m\u001b[0m\n",
       "\u001b[0;34m\u001b[0m    \u001b[0;32mif\u001b[0m \u001b[0mlen\u001b[0m\u001b[0;34m(\u001b[0m\u001b[0mbimask\u001b[0m\u001b[0;34m.\u001b[0m\u001b[0mshape\u001b[0m\u001b[0;34m)\u001b[0m \u001b[0;34m==\u001b[0m \u001b[0;36m3\u001b[0m\u001b[0;34m:\u001b[0m\u001b[0;34m\u001b[0m\n",
       "\u001b[0;34m\u001b[0m        \u001b[0;32mreturn\u001b[0m \u001b[0m_mask\u001b[0m\u001b[0;34m.\u001b[0m\u001b[0mencode\u001b[0m\u001b[0;34m(\u001b[0m\u001b[0mbimask\u001b[0m\u001b[0;34m)\u001b[0m\u001b[0;34m\u001b[0m\n",
       "\u001b[0;34m\u001b[0m    \u001b[0;32melif\u001b[0m \u001b[0mlen\u001b[0m\u001b[0;34m(\u001b[0m\u001b[0mbimask\u001b[0m\u001b[0;34m.\u001b[0m\u001b[0mshape\u001b[0m\u001b[0;34m)\u001b[0m \u001b[0;34m==\u001b[0m \u001b[0;36m2\u001b[0m\u001b[0;34m:\u001b[0m\u001b[0;34m\u001b[0m\n",
       "\u001b[0;34m\u001b[0m        \u001b[0mh\u001b[0m\u001b[0;34m,\u001b[0m \u001b[0mw\u001b[0m \u001b[0;34m=\u001b[0m \u001b[0mbimask\u001b[0m\u001b[0;34m.\u001b[0m\u001b[0mshape\u001b[0m\u001b[0;34m\u001b[0m\n",
       "\u001b[0;34m\u001b[0m        \u001b[0;32mreturn\u001b[0m \u001b[0m_mask\u001b[0m\u001b[0;34m.\u001b[0m\u001b[0mencode\u001b[0m\u001b[0;34m(\u001b[0m\u001b[0mbimask\u001b[0m\u001b[0;34m.\u001b[0m\u001b[0mreshape\u001b[0m\u001b[0;34m(\u001b[0m\u001b[0;34m(\u001b[0m\u001b[0mh\u001b[0m\u001b[0;34m,\u001b[0m \u001b[0mw\u001b[0m\u001b[0;34m,\u001b[0m \u001b[0;36m1\u001b[0m\u001b[0;34m)\u001b[0m\u001b[0;34m,\u001b[0m \u001b[0morder\u001b[0m\u001b[0;34m=\u001b[0m\u001b[0;34m'F'\u001b[0m\u001b[0;34m)\u001b[0m\u001b[0;34m)\u001b[0m\u001b[0;34m[\u001b[0m\u001b[0;36m0\u001b[0m\u001b[0;34m]\u001b[0m\u001b[0;34m\u001b[0m\u001b[0;34m\u001b[0m\u001b[0m\n",
       "\u001b[0;31mFile:\u001b[0m      ~/.miniconda3/lib/python3.7/site-packages/pycocotools/mask.py\n",
       "\u001b[0;31mType:\u001b[0m      function\n"
      ]
     },
     "metadata": {},
     "output_type": "display_data"
    }
   ],
   "source": [
    "encode??"
   ]
  },
  {
   "cell_type": "code",
   "execution_count": 18,
   "metadata": {},
   "outputs": [],
   "source": [
    "import jsonlines"
   ]
  },
  {
   "cell_type": "code",
   "execution_count": 19,
   "metadata": {},
   "outputs": [],
   "source": [
    "with jsonlines.open('/data/home/lanyanyan/hongxin/data/trance/data_mask.jsonl') as reader:\n",
    "    data = list(reader)"
   ]
  },
  {
   "cell_type": "code",
   "execution_count": 31,
   "metadata": {},
   "outputs": [
    {
     "data": {
      "text/plain": [
       "array([0., 0., 0., 0.])"
      ]
     },
     "execution_count": 31,
     "metadata": {},
     "output_type": "execute_result"
    }
   ],
   "source": [
    "toBbox(data[0]['states'][0]['objects'][0]['mask']['Camera_Center'])"
   ]
  },
  {
   "cell_type": "code",
   "execution_count": 36,
   "metadata": {},
   "outputs": [
    {
     "data": {
      "text/plain": [
       "True"
      ]
     },
     "execution_count": 36,
     "metadata": {},
     "output_type": "execute_result"
    }
   ],
   "source": [
    "data[0]['states'][0]['objects'][0]['mask']['Camera_Center']['counts'] == 'PP[2'"
   ]
  },
  {
   "cell_type": "code",
   "execution_count": null,
   "metadata": {},
   "outputs": [],
   "source": [
    "def get_bbox(data):\n",
    "    init_objects = data['states'][0]['objects']"
   ]
  },
  {
   "cell_type": "code",
   "execution_count": null,
   "metadata": {},
   "outputs": [],
   "source": []
  },
  {
   "cell_type": "code",
   "execution_count": null,
   "metadata": {},
   "outputs": [],
   "source": []
  },
  {
   "cell_type": "code",
   "execution_count": 41,
   "metadata": {},
   "outputs": [],
   "source": [
    "a = [1, 2]\n",
    "b = [*a, *a]"
   ]
  },
  {
   "cell_type": "code",
   "execution_count": 42,
   "metadata": {},
   "outputs": [
    {
     "data": {
      "text/plain": [
       "[1, 2, 1, 2]"
      ]
     },
     "execution_count": 42,
     "metadata": {},
     "output_type": "execute_result"
    }
   ],
   "source": [
    "b"
   ]
  },
  {
   "cell_type": "code",
   "execution_count": null,
   "metadata": {},
   "outputs": [],
   "source": []
  },
  {
   "cell_type": "code",
   "execution_count": null,
   "metadata": {},
   "outputs": [],
   "source": []
  },
  {
   "cell_type": "code",
   "execution_count": null,
   "metadata": {},
   "outputs": [],
   "source": [
    "with jsonlines.open('/data/home/lanyanyan/hongxin/data/trance/data_mask.jsonl') as reader:\n",
    "    data = list(reader)"
   ]
  },
  {
   "cell_type": "code",
   "execution_count": 43,
   "metadata": {},
   "outputs": [
    {
     "data": {
      "text/plain": [
       "530000"
      ]
     },
     "execution_count": 43,
     "metadata": {},
     "output_type": "execute_result"
    }
   ],
   "source": [
    "len(data)"
   ]
  },
  {
   "cell_type": "code",
   "execution_count": 62,
   "metadata": {},
   "outputs": [],
   "source": [
    "train_split = data[:500000]\n",
    "val_split = data[500000:510000]\n",
    "test_split = data[510000:530000]"
   ]
  },
  {
   "cell_type": "code",
   "execution_count": 61,
   "metadata": {},
   "outputs": [],
   "source": [
    "import h5py\n",
    "import json\n",
    "from tqdm.notebook import tqdm"
   ]
  },
  {
   "cell_type": "code",
   "execution_count": 64,
   "metadata": {},
   "outputs": [],
   "source": [
    "f = h5py.File('/data/home/lanyanyan/hongxin/data/trance/data.h5', 'r+', libver='latest')"
   ]
  },
  {
   "cell_type": "code",
   "execution_count": 65,
   "metadata": {},
   "outputs": [
    {
     "data": {
      "application/vnd.jupyter.widget-view+json": {
       "model_id": "69827a0cb9dd4a50b1a7912887a7000b",
       "version_major": 2,
       "version_minor": 0
      },
      "text/plain": [
       "  0%|          | 0/500000 [00:00<?, ?it/s]"
      ]
     },
     "metadata": {},
     "output_type": "display_data"
    }
   ],
   "source": [
    "train_data = f['train']['data']\n",
    "for sample in tqdm(train_split):\n",
    "    name = str(sample['idx'])\n",
    "    f_sample = train_data[name]\n",
    "    f_sample[...] = json.dumps(sample)"
   ]
  },
  {
   "cell_type": "code",
   "execution_count": 66,
   "metadata": {},
   "outputs": [
    {
     "data": {
      "application/vnd.jupyter.widget-view+json": {
       "model_id": "5542462d880c45eea27de44e8efe7cbe",
       "version_major": 2,
       "version_minor": 0
      },
      "text/plain": [
       "  0%|          | 0/10000 [00:00<?, ?it/s]"
      ]
     },
     "metadata": {},
     "output_type": "display_data"
    }
   ],
   "source": [
    "val_data = f['val']['data']\n",
    "for sample in tqdm(val_split):\n",
    "    name = str(sample['idx'])\n",
    "    f_sample = val_data[name]\n",
    "    f_sample[...] = json.dumps(sample)"
   ]
  },
  {
   "cell_type": "code",
   "execution_count": 68,
   "metadata": {},
   "outputs": [
    {
     "data": {
      "application/vnd.jupyter.widget-view+json": {
       "model_id": "4fcc2da4bf2e49789640123c80fe8a69",
       "version_major": 2,
       "version_minor": 0
      },
      "text/plain": [
       "  0%|          | 0/20000 [00:00<?, ?it/s]"
      ]
     },
     "metadata": {},
     "output_type": "display_data"
    }
   ],
   "source": [
    "test_data = f['test']['data']\n",
    "for sample in tqdm(test_split):\n",
    "    name = str(sample['idx'])\n",
    "    f_sample = test_data[name]\n",
    "    f_sample[...] = json.dumps(sample)"
   ]
  },
  {
   "cell_type": "code",
   "execution_count": 69,
   "metadata": {},
   "outputs": [],
   "source": [
    "f.close()"
   ]
  },
  {
   "cell_type": "code",
   "execution_count": 70,
   "metadata": {},
   "outputs": [],
   "source": [
    "f = h5py.File('/data/home/lanyanyan/hongxin/data/trance/data.h5', 'r', libver='latest')"
   ]
  },
  {
   "cell_type": "code",
   "execution_count": 2,
   "metadata": {},
   "outputs": [],
   "source": [
    "from dataset.trance import Basic, View, Event"
   ]
  },
  {
   "cell_type": "code",
   "execution_count": 7,
   "metadata": {},
   "outputs": [],
   "source": [
    "data_root='/data/home/lanyanyan/hongxin/data/trance'\n",
    "split='train'\n",
    "values_json='../data/gen_src/resource/values.json'\n",
    "properties_json='../data/gen_src/resource/properties.json'"
   ]
  },
  {
   "cell_type": "code",
   "execution_count": 126,
   "metadata": {},
   "outputs": [],
   "source": [
    "basic = Basic(data_root=data_root, split='train', values_json=values_json, properties_json=properties_json, use_box=False, img_aug=True)"
   ]
  },
  {
   "cell_type": "code",
   "execution_count": 127,
   "metadata": {},
   "outputs": [],
   "source": [
    "sample = basic[0]"
   ]
  },
  {
   "cell_type": "code",
   "execution_count": 128,
   "metadata": {},
   "outputs": [],
   "source": [
    "sample['init_boxes']"
   ]
  },
  {
   "cell_type": "code",
   "execution_count": 19,
   "metadata": {},
   "outputs": [],
   "source": [
    "from torchvision.utils import draw_bounding_boxes\n",
    "import torch"
   ]
  },
  {
   "cell_type": "code",
   "execution_count": 21,
   "metadata": {},
   "outputs": [],
   "source": [
    "import torch\n",
    "import numpy as np\n",
    "import matplotlib.pyplot as plt\n",
    "\n",
    "import torchvision.transforms.functional as F\n",
    "plt.rcParams[\"savefig.bbox\"] = 'tight'\n",
    "\n",
    "\n",
    "def show(imgs):\n",
    "    if not isinstance(imgs, list):\n",
    "        imgs = [imgs]\n",
    "    fix, axs = plt.subplots(ncols=len(imgs), squeeze=False)\n",
    "    for i, img in enumerate(imgs):\n",
    "        img = img.detach()\n",
    "        img = F.to_pil_image(img)\n",
    "        axs[0, i].imshow(np.asarray(img))\n",
    "        axs[0, i].set(xticklabels=[], yticklabels=[], xticks=[], yticks=[])"
   ]
  },
  {
   "cell_type": "code",
   "execution_count": 46,
   "metadata": {},
   "outputs": [],
   "source": [
    "from torchvision.ops._utils import convert_boxes_to_roi_format"
   ]
  },
  {
   "cell_type": "code",
   "execution_count": 49,
   "metadata": {},
   "outputs": [
    {
     "data": {
      "text/plain": [
       "tensor([[  0.0000,  16.6092,  67.3401,  43.1092,  98.3401],\n",
       "        [  0.0000, 115.1092,  65.8401, 137.1092,  87.3401],\n",
       "        [  1.0000,  18.1719,  39.2161,  55.1719,  82.2161],\n",
       "        [  1.0000,  56.1719,  56.2161,  77.6719,  77.7161],\n",
       "        [  1.0000,  78.1719,  55.2161,  87.6719,  64.7161],\n",
       "        [  1.0000,  74.1719,  25.7161,  99.6719,  51.7161],\n",
       "        [  1.0000, 106.6719,  78.2161, 119.1719,  94.7161]])"
      ]
     },
     "execution_count": 49,
     "metadata": {},
     "output_type": "execute_result"
    }
   ],
   "source": [
    "convert_boxes_to_roi_format([torch.as_tensor(basic[0]['init_boxes']), torch.as_tensor(basic[1]['init_boxes'])])"
   ]
  },
  {
   "cell_type": "code",
   "execution_count": 42,
   "metadata": {},
   "outputs": [
    {
     "data": {
      "text/plain": [
       "array([[ 21.448093,  60.711018,  47.948093,  91.71101 ],\n",
       "       [119.94809 ,  59.211018, 141.94809 ,  80.71101 ]], dtype=float32)"
      ]
     },
     "execution_count": 42,
     "metadata": {},
     "output_type": "execute_result"
    }
   ],
   "source": [
    "sample['init_boxes']"
   ]
  },
  {
   "cell_type": "code",
   "execution_count": 43,
   "metadata": {},
   "outputs": [
    {
     "data": {
      "text/plain": [
       "(3, 120, 160)"
      ]
     },
     "execution_count": 43,
     "metadata": {},
     "output_type": "execute_result"
    }
   ],
   "source": [
    "sample['init'].shape"
   ]
  },
  {
   "cell_type": "code",
   "execution_count": 45,
   "metadata": {},
   "outputs": [
    {
     "data": {
      "image/png": "[encoded data removed]",
      "text/plain": [
       "<Figure size 432x288 with 1 Axes>"
      ]
     },
     "metadata": {},
     "output_type": "display_data"
    }
   ],
   "source": [
    "boxes = draw_bounding_boxes(torch.tensor(sample['init']), torch.tensor(sample['init_boxes']))\n",
    "show(boxes)"
   ]
  },
  {
   "cell_type": "code",
   "execution_count": 50,
   "metadata": {},
   "outputs": [],
   "source": [
    "from dataset.collate import box_collate\n",
    "train_loader = torch.utils.data.DataLoader(\n",
    "    dataset=basic,\n",
    "    batch_size=4,\n",
    "    shuffle=False,\n",
    "    num_workers=2,\n",
    "    pin_memory=True,\n",
    "    collate_fn=box_collate)\n",
    "        "
   ]
  },
  {
   "cell_type": "code",
   "execution_count": 149,
   "metadata": {},
   "outputs": [],
   "source": [
    "batch = next(iter(train_loader))"
   ]
  },
  {
   "cell_type": "code",
   "execution_count": 168,
   "metadata": {},
   "outputs": [
    {
     "name": "stderr",
     "output_type": "stream",
     "text": [
      "[autoreload of model failed: Traceback (most recent call last):\n",
      "  File \"/data/home/lanyanyan/hongxin/.miniconda3/lib/python3.7/site-packages/IPython/extensions/autoreload.py\", line 245, in check\n",
      "    superreload(m, reload, self.old_objects)\n",
      "  File \"/data/home/lanyanyan/hongxin/.miniconda3/lib/python3.7/site-packages/IPython/extensions/autoreload.py\", line 394, in superreload\n",
      "    module = reload(module)\n",
      "  File \"/data/home/lanyanyan/hongxin/.miniconda3/lib/python3.7/imp.py\", line 314, in reload\n",
      "    return importlib.reload(module)\n",
      "  File \"/data/home/lanyanyan/hongxin/.miniconda3/lib/python3.7/importlib/__init__.py\", line 169, in reload\n",
      "    _bootstrap._exec(spec, module)\n",
      "  File \"<frozen importlib._bootstrap>\", line 630, in _exec\n",
      "  File \"<frozen importlib._bootstrap_external>\", line 728, in exec_module\n",
      "  File \"<frozen importlib._bootstrap>\", line 219, in _call_with_frames_removed\n",
      "  File \"../model/__init__.py\", line 11, in <module>\n",
      "    from .trancenet import (\n",
      "ImportError: cannot import name 'Detector' from 'model.trancenet' (../model/trancenet.py)\n",
      "]\n",
      "[autoreload of model.single_trancenet failed: Traceback (most recent call last):\n",
      "  File \"/data/home/lanyanyan/hongxin/.miniconda3/lib/python3.7/site-packages/IPython/extensions/autoreload.py\", line 245, in check\n",
      "    superreload(m, reload, self.old_objects)\n",
      "  File \"/data/home/lanyanyan/hongxin/.miniconda3/lib/python3.7/site-packages/IPython/extensions/autoreload.py\", line 394, in superreload\n",
      "    module = reload(module)\n",
      "  File \"/data/home/lanyanyan/hongxin/.miniconda3/lib/python3.7/imp.py\", line 314, in reload\n",
      "    return importlib.reload(module)\n",
      "  File \"/data/home/lanyanyan/hongxin/.miniconda3/lib/python3.7/importlib/__init__.py\", line 169, in reload\n",
      "    _bootstrap._exec(spec, module)\n",
      "  File \"<frozen importlib._bootstrap>\", line 630, in _exec\n",
      "  File \"<frozen importlib._bootstrap_external>\", line 728, in exec_module\n",
      "  File \"<frozen importlib._bootstrap>\", line 219, in _call_with_frames_removed\n",
      "  File \"../model/single_trancenet.py\", line 3, in <module>\n",
      "    from .encoder import CNNEncoder, ResNetEncoder, DUDAEncoder, BCNNEncoder, DetectorEncoder\n",
      "ImportError: cannot import name 'DetectorEncoder' from 'model.encoder' (../model/encoder.py)\n",
      "]\n"
     ]
    },
    {
     "data": {
      "text/plain": [
       "torch.Size([4, 3, 120, 160])"
      ]
     },
     "execution_count": 168,
     "metadata": {},
     "output_type": "execute_result"
    }
   ],
   "source": [
    "batch['init'].shape"
   ]
  },
  {
   "cell_type": "code",
   "execution_count": 85,
   "metadata": {},
   "outputs": [
    {
     "data": {
      "text/plain": [
       "tensor([[  0.0000,   6.2779,   1.3280, 166.2779, 121.3280],\n",
       "        [  0.0000, 120.2779,  61.3280, 142.2779,  82.8280],\n",
       "        [  0.0000,  21.7779,  62.8280,  48.2779,  93.8280],\n",
       "        [  1.0000,   0.8187,  -2.7006, 160.8187, 117.2994],\n",
       "        [  1.0000, 102.3187,  72.7994, 114.8187,  89.2994],\n",
       "        [  1.0000,  69.8187,  20.2994,  95.3187,  46.2994],\n",
       "        [  1.0000,  73.8187,  49.7994,  83.3187,  59.2994],\n",
       "        [  1.0000,  51.8187,  50.7994,  73.3187,  72.2994],\n",
       "        [  1.0000,  13.8187,  33.7994,  50.8187,  76.7994],\n",
       "        [  2.0000,   2.7095,  -2.2254, 162.7095, 117.7746],\n",
       "        [  2.0000,  75.7095,  70.7746,  87.2095,  82.2746],\n",
       "        [  2.0000,  27.2095,  59.7746,  50.7095,  82.7746],\n",
       "        [  2.0000,  41.7095,  41.2746,  50.2095,  49.7746],\n",
       "        [  2.0000,  62.7095,  43.2746,  78.7095,  61.7746],\n",
       "        [  2.0000, 113.2095,  23.2746, 145.7095,  60.2746],\n",
       "        [  2.0000, 135.2095,  78.2746, 147.7095,  90.2746],\n",
       "        [  3.0000,   4.4826,  -5.8393, 164.4826, 114.1607],\n",
       "        [  3.0000,  93.9826,  57.6607, 114.4826,  81.6607],\n",
       "        [  3.0000,  40.9826,  55.6607,  51.4826,  66.1607]])"
      ]
     },
     "execution_count": 85,
     "metadata": {},
     "output_type": "execute_result"
    }
   ],
   "source": [
    "batch['init_boxes']"
   ]
  },
  {
   "cell_type": "code",
   "execution_count": 86,
   "metadata": {},
   "outputs": [
    {
     "data": {
      "text/plain": [
       "tensor([[  0.0000,   6.2779,   1.3280, 166.2779, 121.3280],\n",
       "        [  0.0000,  43.2779,  24.8280,  64.2779,  46.3280],\n",
       "        [  0.0000,  21.7779,  62.8280,  48.2779,  93.8280],\n",
       "        [  0.0000, 120.2779,  61.3280, 142.2779,  82.8280],\n",
       "        [  1.0000,   0.8187,  -2.7006, 160.8187, 117.2994],\n",
       "        [  1.0000,  51.8187,  50.7994,  73.3187,  72.2994],\n",
       "        [  1.0000,  13.8187,  33.7994,  50.8187,  76.7994],\n",
       "        [  1.0000, 102.3187,  72.7994, 114.8187,  89.2994],\n",
       "        [  1.0000,  69.8187,  20.2994,  95.3187,  46.2994],\n",
       "        [  1.0000,  73.8187,  49.7994,  83.3187,  59.2994],\n",
       "        [  2.0000,   2.7095,  -2.2254, 162.7095, 117.7746],\n",
       "        [  2.0000,  27.2095,  59.7746,  50.7095,  82.7746],\n",
       "        [  2.0000,  75.7095,  70.7746,  87.2095,  82.2746],\n",
       "        [  2.0000, 113.2095,  23.2746, 145.7095,  60.2746],\n",
       "        [  2.0000,  41.7095,  41.2746,  50.2095,  49.7746],\n",
       "        [  2.0000, 135.2095,  78.2746, 147.7095,  90.2746],\n",
       "        [  2.0000,  62.7095,  43.2746,  78.7095,  61.7746],\n",
       "        [  3.0000,   4.4826,  -5.8393, 164.4826, 114.1607],\n",
       "        [  3.0000, 100.9826,  22.6607, 133.4826,  62.6607],\n",
       "        [  3.0000,  40.9826,  55.6607,  51.4826,  66.1607],\n",
       "        [  3.0000,  93.9826,  57.6607, 114.4826,  81.6607]])"
      ]
     },
     "execution_count": 86,
     "metadata": {},
     "output_type": "execute_result"
    }
   ],
   "source": [
    "batch['fin_boxes']"
   ]
  },
  {
   "cell_type": "code",
   "execution_count": 66,
   "metadata": {},
   "outputs": [],
   "source": [
    "from model.encoder import MaskRCNNEncoder"
   ]
  },
  {
   "cell_type": "code",
   "execution_count": 154,
   "metadata": {},
   "outputs": [],
   "source": [
    "encoder = MaskRCNNEncoder('concat', 'resnet18').to(torch.device('cuda'))"
   ]
  },
  {
   "cell_type": "code",
   "execution_count": 157,
   "metadata": {},
   "outputs": [
    {
     "name": "stdout",
     "output_type": "stream",
     "text": [
      "backbone\n"
     ]
    }
   ],
   "source": [
    "outputs = encoder(\n",
    "    batch['init'].float().div(255).cuda(),\n",
    "    batch['fin'].float().div(255).cuda(),\n",
    "    batch['init_boxes'].cuda(),\n",
    "    batch['fin_boxes'].cuda(),\n",
    "    tuple(batch['n_init']), tuple(batch['n_fin']))"
   ]
  },
  {
   "cell_type": "code",
   "execution_count": 158,
   "metadata": {},
   "outputs": [
    {
     "data": {
      "text/plain": [
       "torch.Size([4, 512, 1, 1])"
      ]
     },
     "execution_count": 158,
     "metadata": {},
     "output_type": "execute_result"
    }
   ],
   "source": [
    "outputs.shape"
   ]
  },
  {
   "cell_type": "code",
   "execution_count": 79,
   "metadata": {},
   "outputs": [
    {
     "name": "stdout",
     "output_type": "stream",
     "text": [
      "[('0', torch.Size([15, 256, 7, 7])), ('1', torch.Size([15, 256, 7, 7])), ('2', torch.Size([15, 256, 7, 7])), ('3', torch.Size([15, 256, 7, 7])), ('pool', torch.Size([4, 256, 2, 3]))]\n"
     ]
    }
   ],
   "source": [
    "outputs.keys()\n",
    "print([(k, v.shape) for k, v in outputs.items()])"
   ]
  },
  {
   "cell_type": "code",
   "execution_count": 82,
   "metadata": {},
   "outputs": [
    {
     "data": {
      "text/plain": [
       "tensor([ True,  True, False, False, False, False, False, False, False, False,\n",
       "        False, False, False, False, False])"
      ]
     },
     "execution_count": 82,
     "metadata": {},
     "output_type": "execute_result"
    }
   ],
   "source": [
    "batch['init_boxes'][:,0] == 0"
   ]
  },
  {
   "cell_type": "code",
   "execution_count": 107,
   "metadata": {},
   "outputs": [
    {
     "data": {
      "text/plain": [
       "torch.Size([19, 5])"
      ]
     },
     "execution_count": 107,
     "metadata": {},
     "output_type": "execute_result"
    }
   ],
   "source": [
    "batch['init_boxes'].shape"
   ]
  },
  {
   "cell_type": "code",
   "execution_count": 91,
   "metadata": {},
   "outputs": [],
   "source": [
    "x = torch.zeros(19, 256, 7, 7)"
   ]
  },
  {
   "cell_type": "code",
   "execution_count": 93,
   "metadata": {},
   "outputs": [
    {
     "data": {
      "text/plain": [
       "torch.Size([3, 256, 7, 7])"
      ]
     },
     "execution_count": 93,
     "metadata": {},
     "output_type": "execute_result"
    }
   ],
   "source": [
    "x[batch['init_boxes'][:,0] == 0].shape"
   ]
  },
  {
   "cell_type": "code",
   "execution_count": 96,
   "metadata": {},
   "outputs": [],
   "source": [
    "import torch.nn.functionalal as F"
   ]
  },
  {
   "cell_type": "code",
   "execution_count": 99,
   "metadata": {},
   "outputs": [
    {
     "name": "stdout",
     "output_type": "stream",
     "text": [
      "Object `squeeze` not found.\n"
     ]
    }
   ],
   "source": [
    "F.adaptive_max_pool3d(x.permute(1,2,3,0), (1,1,1)).squeeze"
   ]
  },
  {
   "cell_type": "code",
   "execution_count": 105,
   "metadata": {},
   "outputs": [],
   "source": [
    "a = F.adaptive_max_pool3d(x.permute(1,2,3,0), (1,1,1)).flatten()"
   ]
  },
  {
   "cell_type": "code",
   "execution_count": 106,
   "metadata": {},
   "outputs": [
    {
     "data": {
      "text/plain": [
       "torch.Size([2, 256])"
      ]
     },
     "execution_count": 106,
     "metadata": {},
     "output_type": "execute_result"
    }
   ],
   "source": [
    "torch.stack([a, a]).shape"
   ]
  },
  {
   "cell_type": "code",
   "execution_count": 111,
   "metadata": {},
   "outputs": [
    {
     "data": {
      "text/plain": [
       "torch.Size([256, 1, 1])"
      ]
     },
     "execution_count": 111,
     "metadata": {},
     "output_type": "execute_result"
    }
   ],
   "source": [
    "a[...,None,None].shape"
   ]
  },
  {
   "cell_type": "code",
   "execution_count": 112,
   "metadata": {},
   "outputs": [
    {
     "data": {
      "text/plain": [
       "torch.Size([10, 9, 1])"
      ]
     },
     "execution_count": 112,
     "metadata": {},
     "output_type": "execute_result"
    }
   ],
   "source": [
    "F.adaptive_max_pool1d(torch.zeros(10,9,8), (1)).shape"
   ]
  },
  {
   "cell_type": "code",
   "execution_count": 129,
   "metadata": {},
   "outputs": [
    {
     "data": {
      "text/plain": [
       "tensor([0., 0., 0., 1., 1., 1., 1., 1., 1., 2., 2., 2., 2., 2., 2., 2., 3., 3.,\n",
       "        3.])"
      ]
     },
     "execution_count": 129,
     "metadata": {},
     "output_type": "execute_result"
    }
   ],
   "source": [
    "batch['init_boxes'][:,0]"
   ]
  },
  {
   "cell_type": "code",
   "execution_count": 147,
   "metadata": {},
   "outputs": [
    {
     "data": {
      "text/plain": [
       "(tensor([0., 1., 2., 3.]), tensor([3, 6, 7, 3]))"
      ]
     },
     "execution_count": 147,
     "metadata": {},
     "output_type": "execute_result"
    }
   ],
   "source": [
    "torch.unique(batch['init_boxes'][:,0], return_counts=True)"
   ]
  },
  {
   "cell_type": "code",
   "execution_count": 148,
   "metadata": {},
   "outputs": [
    {
     "data": {
      "text/plain": [
       "(tensor([0., 1., 2., 3.]), tensor([3, 6, 7, 3]))"
      ]
     },
     "execution_count": 148,
     "metadata": {},
     "output_type": "execute_result"
    }
   ],
   "source": [
    "torch.unique_consecutive(batch['init_boxes'][:,0], return_counts=True)"
   ]
  },
  {
   "cell_type": "code",
   "execution_count": 139,
   "metadata": {},
   "outputs": [
    {
     "data": {
      "text/plain": [
       "torch.Size([19, 256])"
      ]
     },
     "execution_count": 139,
     "metadata": {},
     "output_type": "execute_result"
    }
   ],
   "source": [
    "torch.mean(x, dim=(-2, -1)).shape"
   ]
  },
  {
   "cell_type": "code",
   "execution_count": 159,
   "metadata": {},
   "outputs": [
    {
     "name": "stderr",
     "output_type": "stream",
     "text": [
      "[autoreload of model.encoder failed: Traceback (most recent call last):\n",
      "  File \"/data/home/lanyanyan/hongxin/.miniconda3/lib/python3.7/site-packages/IPython/extensions/autoreload.py\", line 245, in check\n",
      "    superreload(m, reload, self.old_objects)\n",
      "  File \"/data/home/lanyanyan/hongxin/.miniconda3/lib/python3.7/site-packages/IPython/extensions/autoreload.py\", line 394, in superreload\n",
      "    module = reload(module)\n",
      "  File \"/data/home/lanyanyan/hongxin/.miniconda3/lib/python3.7/imp.py\", line 314, in reload\n",
      "    return importlib.reload(module)\n",
      "  File \"/data/home/lanyanyan/hongxin/.miniconda3/lib/python3.7/importlib/__init__.py\", line 169, in reload\n",
      "    _bootstrap._exec(spec, module)\n",
      "  File \"<frozen importlib._bootstrap>\", line 630, in _exec\n",
      "  File \"<frozen importlib._bootstrap_external>\", line 724, in exec_module\n",
      "  File \"<frozen importlib._bootstrap_external>\", line 860, in get_code\n",
      "  File \"<frozen importlib._bootstrap_external>\", line 791, in source_to_code\n",
      "  File \"<frozen importlib._bootstrap>\", line 219, in _call_with_frames_removed\n",
      "  File \"../model/encoder.py\", line 211\n",
      "    init_out =\n",
      "              ^\n",
      "SyntaxError: invalid syntax\n",
      "]\n"
     ]
    },
    {
     "data": {
      "text/plain": [
       "torch.Tensor"
      ]
     },
     "execution_count": 159,
     "metadata": {},
     "output_type": "execute_result"
    }
   ],
   "source": [
    "type(outputs)"
   ]
  },
  {
   "cell_type": "code",
   "execution_count": 164,
   "metadata": {},
   "outputs": [
    {
     "data": {
      "text/plain": [
       "torch.Size([10, 3, 120, 160])"
      ]
     },
     "execution_count": 164,
     "metadata": {},
     "output_type": "execute_result"
    }
   ],
   "source": [
    "x.shape"
   ]
  },
  {
   "cell_type": "code",
   "execution_count": 166,
   "metadata": {},
   "outputs": [
    {
     "data": {
      "text/plain": [
       "torch.Size([10, 2, 3, 120, 160])"
      ]
     },
     "execution_count": 166,
     "metadata": {},
     "output_type": "execute_result"
    }
   ],
   "source": [
    "torch.stack([x, x], dim=1).shape"
   ]
  },
  {
   "cell_type": "code",
   "execution_count": 167,
   "metadata": {},
   "outputs": [
    {
     "data": {
      "text/plain": [
       "torch.Size([12])"
      ]
     },
     "execution_count": 167,
     "metadata": {},
     "output_type": "execute_result"
    }
   ],
   "source": [
    "x.new_zeros(22 - x.size(0)).shape"
   ]
  },
  {
   "cell_type": "code",
   "execution_count": null,
   "metadata": {},
   "outputs": [],
   "source": []
  }
 ],
 "metadata": {
  "kernelspec": {
   "display_name": "Python 3",
   "language": "python",
   "name": "python3"
  },
  "language_info": {
   "codemirror_mode": {
    "name": "ipython",
    "version": 3
   },
   "file_extension": ".py",
   "mimetype": "text/x-python",
   "name": "python",
   "nbconvert_exporter": "python",
   "pygments_lexer": "ipython3",
   "version": "3.7.7"
  }
 },
 "nbformat": 4,
 "nbformat_minor": 4
}
